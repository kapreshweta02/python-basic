{
  "nbformat": 4,
  "nbformat_minor": 0,
  "metadata": {
    "colab": {
      "provenance": []
    },
    "kernelspec": {
      "name": "python3",
      "display_name": "Python 3"
    },
    "language_info": {
      "name": "python"
    }
  },
  "cells": [
    {
      "cell_type": "markdown",
      "source": [
        "**PYTHON BASIC QUESTIONS**"
      ],
      "metadata": {
        "id": "rGly1qtEto9k"
      }
    },
    {
      "cell_type": "markdown",
      "source": [
        "1. What is Python, and why is it popular ?\n",
        "\n",
        "Ans  Python is a high-level, interpreted programming language known for its simplicity, readability, and versatility. It was created by Guido van Rossum and first released in 1991.\n",
        "\n",
        "\n",
        "*High-level: Abstracts away most of the complex details of the computers hardware.\n",
        "\n",
        "*Interpreted: Executes code line by line, which makes debugging easier.\n",
        "\n",
        "*Dynamically Typed: You donot need to declare variable types.\n",
        "\n",
        "*Multi-paradigm: Supports object-oriented, procedural, and functional programming styles.\n",
        "\n",
        "*Open-source: Freely available and supported by a large community.\n",
        "\n",
        "Python Popular because:\n",
        "\n",
        "  *Readable and Simple Syntax\n",
        "     -Looks like plain English.\n",
        "     -Great for beginners and reduces development time.\n",
        "\n",
        "  *Huge Ecosystem of Libraries and Frameworks\n",
        "     -Data science: pandas, numpy, matplotlib, scikit-learn\n",
        "     -Web development: Django, Flask, FastAPI\n",
        "     -Automation: selenium, pyautogui, requests\n",
        "     -AI/ML: TensorFlow, PyTorch, OpenCV\n",
        "\n",
        "  *Cross-platform Compatibility\n",
        "     -Runs on Windows, macOS, Linux, etc.\n",
        "\n",
        "  *Large and Active Community\n",
        "      -Tons of tutorials, forums, and open-source contributions.\n",
        "      \n",
        "  *Versatility\n",
        "     -Web apps, data analysis, AI, scripting, game development etc..."
      ],
      "metadata": {
        "id": "2NhnwBiWZgct"
      }
    },
    {
      "cell_type": "markdown",
      "source": [
        " 2.What is an interpreter in Python?\n",
        "\n",
        " Ans An interpreter is a program that reads and executes your Python code line by line.\n",
        "\n",
        "*How It Works:\n",
        "\n",
        "   -You write Python code (.py file).\n",
        "\n",
        "   -The Python interpreter processes the code one line at a time.\n",
        "\n",
        "   -It translates each line into machine code (the low-level instructions\n",
        "     the computer understands).\n",
        "     \n",
        "  -It runs that machine code immediately."
      ],
      "metadata": {
        "id": "HupXbVpqch7n"
      }
    },
    {
      "cell_type": "markdown",
      "source": [
        "3. What are pre-defined keywords in Python?\n",
        "\n",
        "\n",
        "Ans Keywords in Python are reserved words that have special meaning and are used to define the syntax and structure of the Python language.\n",
        "\n",
        "You cannot use them as variable names, function names, or identifiers, because Python already uses them for its own purposes.\n",
        "\n",
        "\n",
        "\n",
        "**Category\tKeywords**\n",
        "-Control Flow:\tif, else, elif, for, while, break, continue, pass\n",
        "\n",
        "\n",
        "-Functions:\tdef, return, lambda, yield\n",
        "\n",
        "\n",
        "-Classes/Objects:\tclass, self, super, isinstance\n",
        "\n",
        "\n",
        "-Exception Handling:\ttry, except, finally, raise, assert\n",
        "\n",
        "\n",
        "-Boolean Logic:\tTrue, False, not, and, or, is, in\n",
        "\n",
        "\n",
        "-Variable: Scope\tglobal, nonlocal\n",
        "\n",
        "\n",
        "-Other:\timport, from, as, with, del, None"
      ],
      "metadata": {
        "id": "htiTOTKX7MK2"
      }
    },
    {
      "cell_type": "markdown",
      "source": [
        "4. Can keywords be used as variable names ?\n",
        "\n",
        "Ans No we cannot use keywords as variable names in Python.\n",
        "\n",
        "Because keywords have special meanings in Python, using them as variable names would confuse the interpreter."
      ],
      "metadata": {
        "id": "6OmBiAru8TC3"
      }
    },
    {
      "cell_type": "markdown",
      "source": [
        "5. What is mutability in Python?\n",
        "\n",
        "\n",
        "Ans- Mutability refers to whether or not an objects value can be changed after its created.\n",
        "\n",
        "-Example of mutability:\n",
        "\n",
        " my_list = [1, 2, 3]\n",
        "\n",
        " my_list[0] = 10\n",
        "\n",
        " print(my_list)  \n",
        "\n",
        "    Output: [10, 2, 3]"
      ],
      "metadata": {
        "id": "UapuoCU-9Jz3"
      }
    },
    {
      "cell_type": "markdown",
      "source": [
        "6. Why are lists mutable, but tuples are immutable?\n",
        "\n",
        "\n",
        "Ans-\n",
        "\n",
        "    FEATURE    LIST(MUTABLE)\t    TUPLE(IMMUTABLE)\n",
        "    Changeable\t Yes               No\n",
        "    Performance\tSlightly slower   Faster (optimized)\n",
        "    Hashable\t   No\t            Yes (if elements are hashable)\n",
        "    Use Case\t   Dynamic data\t  Fixed data\n",
        "\n",
        "\n",
        "1. Purpose and Use Case\n",
        "\n",
        "\n",
        "-Lists are meant to be used when you need a dynamic, changeable collection.\n",
        "You can add, remove, or change items anytime.\n",
        "Good for situations where the data evolves (like to-do lists, inventories, etc.).\n",
        "\n",
        "\n",
        "\n",
        "-Tuples are used when your data should not change.\n",
        "Think of it like a constant record (like a coordinate (x, y) or a date).\n",
        "They're often used to represent fixed collections of values.\n",
        "\n",
        "\n",
        "2.Performance Optimization\n",
        "Tuples are faster than lists in many cases, especially when used as keys in dictionaries or elements in sets.\n",
        "\n",
        "Because tuples are immutable, Python can optimize memory usage and caching behind the scenes.\n",
        "\n",
        "\n",
        "\n",
        "3.Hashability\n",
        "Only immutable types can be hashed (which means they can be used as keys in a dict or added to a set).\n",
        "\n",
        "example-\n",
        "\n",
        "    my_dict = {(1, 2): \"valid\"}  #Tuple as a key\n",
        "    my_dict = {[1, 2]: \"invalid\"}#List as a key → Error!\n",
        "\n",
        "\n",
        "\n",
        "4.Safety and Design\n",
        "Making tuples immutable means you can't accidentally change important data.\n",
        "\n",
        "This makes code more predictable and bug-resistant, especially when you're passing data around functions.\n",
        "\n"
      ],
      "metadata": {
        "id": "wfEoQ0GW99et"
      }
    },
    {
      "cell_type": "markdown",
      "source": [
        "7. What is the difference between “==” and “is” operators in Python ?\n",
        "\n",
        "Ans  (==)Equality Operator\n",
        "\n",
        "          -Checks if values are equal.\n",
        "\n",
        "          -It doesn't care if the objects are stored in different places\n",
        "            in memory—just if their contents match.\n",
        "\n",
        " Example-\n",
        "\n",
        "         a = [1, 2, 3]\n",
        "\n",
        "         b = [1, 2, 3]\n",
        "\n",
        "         print(a == b)   \n",
        "         \n",
        "         Output: True — values are the same\n",
        "\n",
        "     (is)Identity Operator\n",
        "         \n",
        "           -Checks if two variables point to the exact same object in memory.\n",
        "\n",
        "  Example-\n",
        "\n",
        "         a = [1, 2, 3]\n",
        "\n",
        "         b = [1, 2, 3]\n",
        "\n",
        "         print(a is b)   \n",
        "\n",
        "Output-False — different objects in memory\n",
        "\n",
        "\n",
        "                   \n",
        "\n",
        "\n"
      ],
      "metadata": {
        "id": "W-yQRHr0_rii"
      }
    },
    {
      "cell_type": "markdown",
      "source": [
        "8. What are logical operators in Python ?\n",
        "\n",
        "Ans Logical operators in Python are used to combine conditional statements\n",
        "  (booleans: True or False).\n",
        "\n",
        "Python has three main logical operators:\n",
        "\n",
        " 1.and — All must be True\n",
        "\n",
        "x = 5\n",
        "\n",
        "print(x > 1 and x < 10)  \n",
        "\n",
        " #True Only returns True if both sides are True.\n",
        "\n",
        "\n",
        " 2.or — At least one is True\n",
        "\n",
        "x = 5\n",
        "\n",
        "print(x < 1 or x < 10)\n",
        "\n",
        "  #True Returns True if at least one side is True.\n",
        "\n",
        "\n",
        "  3.not — Flips True/False\n",
        "\n",
        "x = True\n",
        "\n",
        "print(not x)\n",
        "\n",
        "  #False Reverses the result.\n",
        "\n",
        "  not True → False, not False → True\n",
        "\n",
        "and-\tLogical AND\t-Both conditions are True\n",
        "\n",
        "\n",
        "or-\tLogical OR-\tAt least one condition is True\n",
        "\n",
        "\n",
        "not-\tLogical NOT-\tThe condition is False"
      ],
      "metadata": {
        "id": "eBoSURy2BKQ4"
      }
    },
    {
      "cell_type": "markdown",
      "source": [
        "9. What is type casting in Python?\n",
        "\n",
        "Ans  Type casting means converting a value from one data type to another, like from a string to an integer, or an integer to a float.\n",
        "\n",
        "It helps when you want to work with data that is in the “wrong” format for what you are trying to do.\n",
        "\n",
        " -Two Types of Casting:\n",
        "1. Explicit Casting\n",
        "\n",
        "  You manually convert types using built-in functions:\n",
        "\n",
        "Function\tConverts To\n",
        "int()-\tInteger\n",
        "float()-\tFloating point\n",
        "str()-\tString\n",
        "bool()-\tBoolean\n",
        "\n",
        "Example:\n",
        "\n",
        "x = \"5\"\n",
        "\n",
        "y = int(x)   #string → int\n",
        "\n",
        "print(y + 2)  #Output: 7\n",
        "\n",
        "2. Implicit Casting\n",
        "\n",
        "Python sometimes converts types for you in mixed-type operations.\n",
        "\n",
        "Example:\n",
        "\n",
        "x = 5\n",
        "\n",
        "y = 2.0\n",
        "\n",
        "z = x + y\n",
        "\n",
        "print(z)        # Output: 7.0 (int + float = float)"
      ],
      "metadata": {
        "id": "Y59nGHh7FUyd"
      }
    },
    {
      "cell_type": "markdown",
      "source": [
        "10. What is the difference between implicit and explicit type casting?\n",
        "\n",
        "Ans\n",
        "\n",
        "\n",
        "    FEATURE        IMPLICIT TYPE CASTING     EXPLICIT TYPE CASTING\n",
        "\n",
        "    1.Performed by\t Python automatically\t   Programmer manually\n",
        "\n",
        "    2.Control\t       No direct control\t     Full control over conversion\n",
        "    \n",
        "    3.When it happens\tDuring safe operations    When you use casting\n",
        "                       (e.g., int + float)         functions like int(),\n",
        "                                                  str()\n",
        "\n",
        "    4.Syntax example\tx = 5 + 2.0             \tx = int(\"5\") + 2\n",
        "\n",
        "\n",
        "    5.Risk of data loss\t Very low                 Possible if not careful\n",
        "                      (Python avoids               (e.g., float → int\n",
        "                      unsafe casts)\t              loses decimal)\n",
        "\n",
        "                     \n",
        "    6.Functions used\tNone (automatic)\t          int(), float(), str(),\n",
        "                                                     bool(), etc.\n",
        "\n",
        "    7.Use case\t   Python ensures types match      Converting user input,\n",
        "                   in mixed operations.\t         handling strings/numbers.\n",
        "\n",
        "                            \n",
        "                 \n"
      ],
      "metadata": {
        "id": "0X3wgGmNIYpV"
      }
    },
    {
      "cell_type": "markdown",
      "source": [
        "11.What is the purpose of conditional statements in Python?\n",
        "\n",
        "Ans The purpose of conditional statements is to allow your program to make decisions and execute different blocks of code based on certain conditions.\n",
        "\n",
        "\n",
        "    Statement\t        Purpose\t                       Example Syntax\n",
        "    if\t          Checks a condition and runs            if age >= 18:\n",
        "                      the block if true\n",
        "   \n",
        "    elif\t        Adds more conditions to\n",
        "                    check if if fails\t                  elif age >= 13:\n",
        "    \n",
        "    else\t         Runs when all if/elif\n",
        "                      conditions fail\t                     else:\n",
        "\n",
        "Example:\n",
        "\n",
        "age = 17\n",
        "\n",
        "if age >= 18:\n",
        "\n",
        " print(\"You can vote!\")\n",
        "\n",
        "elif age >= 13:\n",
        "\n",
        "  print(\"You're a teenager.\")\n",
        "else:\n",
        "\n",
        "  print(\"You're a child.\")   \n",
        "\n",
        "    Output: You're a teenager.             "
      ],
      "metadata": {
        "id": "fXxfFtY_MRWD"
      }
    },
    {
      "cell_type": "markdown",
      "source": [
        "12.How does the elif statement work?\n",
        "\n",
        "Ans-elif stands for \"else if\". It lets you check additional conditions after the initial if.\n",
        "\n",
        "How it works:\n",
        "\n",
        "Python checks conditions top to bottom:\n",
        "\n",
        "1.It checks the if condition first.\n",
        "\n",
        "2.If if is False, it checks each elif in order.\n",
        "\n",
        "3.If one elif is True, that block runs, and the rest are skipped.\n",
        "\n",
        "4.If none of the conditions are True, it runs the else block (if there is one).\n",
        "\n",
        "Example:\n",
        "\n",
        "marks = 75\n",
        "\n",
        "if marks >= 90:\n",
        "\n",
        "print(\"Grade: A\")\n",
        "\n",
        "elif marks >= 80:\n",
        "\n",
        "print(\"Grade: B\")\n",
        "\n",
        "elif marks >= 70:\n",
        "\n",
        "print(\"Grade: C\")\n",
        "\n",
        "else:\n",
        "\n",
        "print(\"Grade: F\")\n",
        "\n",
        "    Output:Grade: C"
      ],
      "metadata": {
        "id": "pQAadSQrQzpN"
      }
    },
    {
      "cell_type": "markdown",
      "source": [
        "13.What is the difference between for and while loops?\n",
        "\n",
        "Ans-\n",
        "\n",
        "    Feature\t      for Loop\t                 while Loop\n",
        "    1.Purpose\tUsed when you know how many    Used when you don’t know\n",
        "                times to repeat                 exactly how many times to loop\n",
        "    \n",
        "    2.Syntax\tIterates over a sequence       Loops as long as a condition    \n",
        "              (like a list or range)\t        is TRUE\n",
        "\n",
        "    3.Control\tAutomatically stops when      You must update the condition\n",
        "                  sequence ends                  manually\n",
        "\n",
        "    4.Common Use\tLooping through items,    Repeating until the condition\n",
        "                    ranges,collections           is met\n",
        "    \n",
        "    5.Risk of      Low(Python handles        Higher if condition is never\n",
        "    Infinite Loop\t   iteration)                made FALSE\n",
        "\n",
        "\n",
        "Example of for loop:\n",
        "\n",
        "for i in range(5):\n",
        "\n",
        "  print(i)\n",
        "\n",
        "    Output:\n",
        "    0\n",
        "    1\n",
        "    2\n",
        "    3\n",
        "    4\n",
        "\n",
        "Example of While loop:\n",
        "\n",
        "i = 0\n",
        "\n",
        "while i < 5:\n",
        "\n",
        "print(i)\n",
        "\n",
        "i += 1\n",
        "\n",
        "    Output:\n",
        "    0\n",
        "    1\n",
        "    2\n",
        "    3\n",
        "    4\n"
      ],
      "metadata": {
        "id": "XTOAtscPR-0v"
      }
    },
    {
      "cell_type": "markdown",
      "source": [
        "14.Describe a scenario where a while loop is more suitable than a for loop?\n",
        "\n",
        "Ans-Imagine you're building a simple login system that asks the user for a password, and keeps asking until the correct one is entered.\n",
        "\n",
        "\n",
        "This is a perfect job for a while loop, because:\n",
        "\n",
        "   -You don’t know how many tries the user will take.\n",
        "\n",
        "  -You want the loop to continue until a certain condition is met (i.e., correct password).\n",
        "\n",
        "Example using while\n",
        "\n",
        "    correct_password = \"python123\"\n",
        "    user_input = \"\"\n",
        "    while user_input != correct_password:\n",
        "    user_input = input(\"Enter password: \")\n",
        "    print(\"Access granted!\")\n",
        "\n",
        "-Why not a for loop\n",
        "\n",
        "A for loop is ideal when you know how many times you're looping — like looping 5 times or going through a list.\n",
        "\n",
        "But in this case, we don’t know if the user will get it right on the first try or the tenth — that's why a while loop fits best!\n",
        "\n",
        "\n"
      ],
      "metadata": {
        "id": "WkpM-Zf3WeBs"
      }
    },
    {
      "cell_type": "markdown",
      "source": [
        "**PRACTICAL QUESTIONS**"
      ],
      "metadata": {
        "id": "W3g-Goy0YNCV"
      }
    },
    {
      "cell_type": "markdown",
      "source": [
        "1.Write a Python program to print \"Hello, World!"
      ],
      "metadata": {
        "id": "gQAFjjjBYj2L"
      }
    },
    {
      "cell_type": "code",
      "source": [
        "print(\"Hello,World\")"
      ],
      "metadata": {
        "colab": {
          "base_uri": "https://localhost:8080/"
        },
        "id": "iJ4i2ILGYx0g",
        "outputId": "25c50c9e-6872-4ac1-a713-938b5a467613"
      },
      "execution_count": 1,
      "outputs": [
        {
          "output_type": "stream",
          "name": "stdout",
          "text": [
            "Hello,World\n"
          ]
        }
      ]
    },
    {
      "cell_type": "markdown",
      "source": [
        "2.Write a Python program that displays your name and age"
      ],
      "metadata": {
        "id": "8S3aQgo7Y-Gx"
      }
    },
    {
      "cell_type": "code",
      "source": [
        "name=input(\"Enter your name:\")\n",
        "age=int(input(\"Enter your age:\"))\n",
        "print(\"Name:\",name)\n",
        "print(\"Age:\",age)"
      ],
      "metadata": {
        "colab": {
          "base_uri": "https://localhost:8080/"
        },
        "id": "nRtkwRghZE8t",
        "outputId": "064393a9-1c5a-4d6f-c481-9d805f60589d"
      },
      "execution_count": 2,
      "outputs": [
        {
          "output_type": "stream",
          "name": "stdout",
          "text": [
            "Enter your name:Shweta kapre\n",
            "Enter your age:22\n",
            "Name: Shweta kapre\n",
            "Age: 22\n"
          ]
        }
      ]
    },
    {
      "cell_type": "markdown",
      "source": [
        "3.Write code to print all the pre-defined keywords in Python using the keyword library"
      ],
      "metadata": {
        "id": "sk6Lgz1uZqG7"
      }
    },
    {
      "cell_type": "code",
      "source": [
        "import keyword\n",
        "\n",
        "# Get the list of all Python keywords\n",
        "keywords = keyword.kwlist\n",
        "\n",
        "# Print the keywords\n",
        "print(\"Python Keywords:\")\n",
        "for kw in keywords:\n",
        "    print(kw)\n",
        "\n"
      ],
      "metadata": {
        "colab": {
          "base_uri": "https://localhost:8080/"
        },
        "id": "1Q_BcXxFZzK3",
        "outputId": "263d9174-ef58-41a3-8bcc-e7d8b415b553"
      },
      "execution_count": 3,
      "outputs": [
        {
          "output_type": "stream",
          "name": "stdout",
          "text": [
            "Python Keywords:\n",
            "False\n",
            "None\n",
            "True\n",
            "and\n",
            "as\n",
            "assert\n",
            "async\n",
            "await\n",
            "break\n",
            "class\n",
            "continue\n",
            "def\n",
            "del\n",
            "elif\n",
            "else\n",
            "except\n",
            "finally\n",
            "for\n",
            "from\n",
            "global\n",
            "if\n",
            "import\n",
            "in\n",
            "is\n",
            "lambda\n",
            "nonlocal\n",
            "not\n",
            "or\n",
            "pass\n",
            "raise\n",
            "return\n",
            "try\n",
            "while\n",
            "with\n",
            "yield\n"
          ]
        }
      ]
    },
    {
      "cell_type": "markdown",
      "source": [
        "4.Write a program that checks if a given word is a Python keyword."
      ],
      "metadata": {
        "id": "WKKYDz6vaHR0"
      }
    },
    {
      "cell_type": "code",
      "source": [
        "import keyword\n",
        "\n",
        "# Ask the user to input a word\n",
        "word = input(\"Enter a word to check if it's a Python keyword: \")\n",
        "\n",
        "# Check if the word is a keyword\n",
        "if keyword.iskeyword(word):\n",
        "    print(f\"'{word}' is a Python keyword.\")\n",
        "else:\n",
        "    print(f\"'{word}' is NOT a Python keyword.\")\n"
      ],
      "metadata": {
        "colab": {
          "base_uri": "https://localhost:8080/"
        },
        "id": "uQDgM4wJaNtC",
        "outputId": "4af8b85c-92c7-4c1d-8587-a6cf56d0752c"
      },
      "execution_count": 7,
      "outputs": [
        {
          "output_type": "stream",
          "name": "stdout",
          "text": [
            "Enter a word to check if it's a Python keyword: class\n",
            "'class' is a Python keyword.\n"
          ]
        }
      ]
    },
    {
      "cell_type": "markdown",
      "source": [
        "5.Create a list and tuple in Python, and demonstrate how attempting to change an element works differently\n",
        "for each."
      ],
      "metadata": {
        "id": "DWQeh1praxHy"
      }
    },
    {
      "cell_type": "code",
      "source": [
        "# Creating a list\n",
        "my_list = [1, 2, 3]\n",
        "print(\"Original list:\", my_list)\n",
        "\n",
        "# Modifying an element in the list\n",
        "my_list[0] = 10\n",
        "print(\"Modified list:\", my_list)\n",
        "\n",
        "# Creating a tuple\n",
        "my_tuple = (1, 2, 3)\n",
        "print(\"\\nOriginal tuple:\", my_tuple)\n",
        "print(\"You cannot modify elements in a tuple because tuples are immutable.\")\n"
      ],
      "metadata": {
        "colab": {
          "base_uri": "https://localhost:8080/"
        },
        "id": "rrUMNtZ_a79i",
        "outputId": "56e09d32-e7b0-4064-ec92-3968551e75a3"
      },
      "execution_count": 8,
      "outputs": [
        {
          "output_type": "stream",
          "name": "stdout",
          "text": [
            "Original list: [1, 2, 3]\n",
            "Modified list: [10, 2, 3]\n",
            "\n",
            "Original tuple: (1, 2, 3)\n",
            "You cannot modify elements in a tuple because tuples are immutable.\n"
          ]
        }
      ]
    },
    {
      "cell_type": "markdown",
      "source": [
        "6.Write a function to demonstrate the behavior of mutable and immutable arguments."
      ],
      "metadata": {
        "id": "6aGjUNbCdCde"
      }
    },
    {
      "cell_type": "code",
      "source": [
        "def modify_values(a_number, a_list):\n",
        "    print(\"\\nInside function before modification:\")\n",
        "    print(\"a_number =\", a_number)\n",
        "    print(\"a_list =\", a_list)\n",
        "\n",
        "    a_number += 10           # This won't affect the original variable (immutable)\n",
        "    a_list.append(100)       # This will affect the original list (mutable)\n",
        "\n",
        "    print(\"\\nInside function after modification:\")\n",
        "    print(\"a_number =\", a_number)\n",
        "    print(\"a_list =\", a_list)\n",
        "\n",
        "# Main part\n",
        "num = 5\n",
        "lst = [1, 2, 3]\n",
        "\n",
        "print(\"Before function call:\")\n",
        "print(\"num =\", num)\n",
        "print(\"lst =\", lst)\n",
        "\n",
        "modify_values(num, lst)\n",
        "\n",
        "print(\"\\nAfter function call:\")\n",
        "print(\"num =\", num)     # Unchanged\n",
        "print(\"lst =\", lst)     # Changed\n"
      ],
      "metadata": {
        "colab": {
          "base_uri": "https://localhost:8080/"
        },
        "id": "ywsklUkNdPeq",
        "outputId": "dc25de95-0630-4b9d-bcd0-47c75d92e2da"
      },
      "execution_count": 9,
      "outputs": [
        {
          "output_type": "stream",
          "name": "stdout",
          "text": [
            "Before function call:\n",
            "num = 5\n",
            "lst = [1, 2, 3]\n",
            "\n",
            "Inside function before modification:\n",
            "a_number = 5\n",
            "a_list = [1, 2, 3]\n",
            "\n",
            "Inside function after modification:\n",
            "a_number = 15\n",
            "a_list = [1, 2, 3, 100]\n",
            "\n",
            "After function call:\n",
            "num = 5\n",
            "lst = [1, 2, 3, 100]\n"
          ]
        }
      ]
    },
    {
      "cell_type": "markdown",
      "source": [
        "7.Write a program that performs basic arithmetic operations on two user-input numbers.\n",
        "\n"
      ],
      "metadata": {
        "id": "vsaC-NZkep0v"
      }
    },
    {
      "cell_type": "code",
      "source": [
        "# Get user input\n",
        "num1 = float(input(\"Enter the first number: \"))\n",
        "num2 = float(input(\"Enter the second number: \"))\n",
        "\n",
        "# Perform arithmetic operations\n",
        "addition = num1 + num2\n",
        "subtraction = num1 - num2\n",
        "multiplication = num1 * num2\n",
        "\n",
        "# Avoid division by zero\n",
        "if num2 != 0:\n",
        "    division = num1 / num2\n",
        "    floor_division = num1 // num2\n",
        "    modulus = num1 % num2\n",
        "else:\n",
        "    division = \"Undefined (cannot divide by zero)\"\n",
        "    floor_division = \"Undefined (cannot divide by zero)\"\n",
        "    modulus = \"Undefined (cannot divide by zero)\"\n",
        "\n",
        "exponentiation = num1 ** num2\n",
        "\n",
        "# Display results\n",
        "print(\"\\nResults:\")\n",
        "print(f\"Addition: {num1} + {num2} = {addition}\")\n",
        "print(f\"Subtraction: {num1} - {num2} = {subtraction}\")\n",
        "print(f\"Multiplication: {num1} * {num2} = {multiplication}\")\n",
        "print(f\"Division: {num1} / {num2} = {division}\")\n",
        "print(f\"Floor Division: {num1} // {num2} = {floor_division}\")\n",
        "print(f\"Modulus: {num1} % {num2} = {modulus}\")\n",
        "print(f\"Exponentiation: {num1} ** {num2} = {exponentiation}\")\n"
      ],
      "metadata": {
        "colab": {
          "base_uri": "https://localhost:8080/"
        },
        "id": "1ef71bYygaHw",
        "outputId": "4f59556c-5262-4e2b-8df1-b89146f2facd"
      },
      "execution_count": 11,
      "outputs": [
        {
          "output_type": "stream",
          "name": "stdout",
          "text": [
            "Enter the first number: 70\n",
            "Enter the second number: 3\n",
            "\n",
            "Results:\n",
            "Addition: 70.0 + 3.0 = 73.0\n",
            "Subtraction: 70.0 - 3.0 = 67.0\n",
            "Multiplication: 70.0 * 3.0 = 210.0\n",
            "Division: 70.0 / 3.0 = 23.333333333333332\n",
            "Floor Division: 70.0 // 3.0 = 23.0\n",
            "Modulus: 70.0 % 3.0 = 1.0\n",
            "Exponentiation: 70.0 ** 3.0 = 343000.0\n"
          ]
        }
      ]
    },
    {
      "cell_type": "markdown",
      "source": [
        " 8.Write a program to demonstrate the use of logical operators"
      ],
      "metadata": {
        "id": "RQzo9runnpZL"
      }
    },
    {
      "cell_type": "code",
      "source": [
        "# Get user input\n",
        "a = int(input(\"Enter first number: \"))\n",
        "b = int(input(\"Enter second number: \"))\n",
        "\n",
        "print(\"\\nLogical Operator Demonstrations:\")\n",
        "\n",
        "# and operator\n",
        "result_and = a > 0 and b > 0\n",
        "print(f\"(a > 0 and b > 0): {result_and}  -> True if both numbers are positive\")\n",
        "\n",
        "# or operator\n",
        "result_or = a > 0 or b > 0\n",
        "print(f\"(a > 0 or b > 0): {result_or}  -> True if at least one number is positive\")\n",
        "\n",
        "# not operator\n",
        "result_not = not (a > 0)\n",
        "print(f\"not(a > 0): {result_not}  -> True if 'a' is NOT positive\")\n"
      ],
      "metadata": {
        "colab": {
          "base_uri": "https://localhost:8080/"
        },
        "id": "iZpTqOhynvZh",
        "outputId": "5b252f28-fb60-4b46-814c-7794d026868f"
      },
      "execution_count": 13,
      "outputs": [
        {
          "output_type": "stream",
          "name": "stdout",
          "text": [
            "Enter first number: 4\n",
            "Enter second number: 9\n",
            "\n",
            "Logical Operator Demonstrations:\n",
            "(a > 0 and b > 0): True  -> True if both numbers are positive\n",
            "(a > 0 or b > 0): True  -> True if at least one number is positive\n",
            "not(a > 0): False  -> True if 'a' is NOT positive\n"
          ]
        }
      ]
    },
    {
      "cell_type": "markdown",
      "source": [
        "9.Write a Python program to convert user input from string to integer, float, and boolean types"
      ],
      "metadata": {
        "id": "OgdLXsDFoaIc"
      }
    },
    {
      "cell_type": "code",
      "source": [
        "# Get user input as a string\n",
        "user_input = input(\"Enter a value: \")\n",
        "\n",
        "print(\"\\nConversions:\")\n",
        "\n",
        "# Convert to integer\n",
        "try:\n",
        "    int_value = int(user_input)\n",
        "    print(f\"Integer conversion: {int_value}\")\n",
        "except ValueError:\n",
        "    print(\"Integer conversion: Invalid input (cannot convert to int)\")\n",
        "\n",
        "# Convert to float\n",
        "try:\n",
        "    float_value = float(user_input)\n",
        "    print(f\"Float conversion: {float_value}\")\n",
        "except ValueError:\n",
        "    print(\"Float conversion: Invalid input (cannot convert to float)\")\n",
        "\n",
        "# Convert to boolean\n",
        "# In Python, empty string (\"\") converts to False, all other strings convert to True\n",
        "bool_value = bool(user_input)\n",
        "print(f\"Boolean conversion: {bool_value}\")\n"
      ],
      "metadata": {
        "colab": {
          "base_uri": "https://localhost:8080/"
        },
        "id": "Dh_Hec55ojGd",
        "outputId": "7ef77188-0a28-4ac9-89c9-81798b7ad1e1"
      },
      "execution_count": 17,
      "outputs": [
        {
          "output_type": "stream",
          "name": "stdout",
          "text": [
            "Enter a value: 56\n",
            "\n",
            "Conversions:\n",
            "Integer conversion: 56\n",
            "Float conversion: 56.0\n",
            "Boolean conversion: True\n"
          ]
        }
      ]
    },
    {
      "cell_type": "markdown",
      "source": [
        "10.Write code to demonstrate type casting with list elements."
      ],
      "metadata": {
        "id": "B0it3dDepC5Z"
      }
    },
    {
      "cell_type": "code",
      "source": [
        "# List of strings that represent numbers\n",
        "str_list = [\"10\", \"20\", \"30\", \"40.5\", \"50\"]\n",
        "\n",
        "print(\"Original list (strings):\", str_list)\n",
        "\n",
        "# Convert strings to integers (only if possible)\n",
        "int_list = [int(x) for x in str_list if x.isdigit()]\n",
        "print(\"List converted to integers:\", int_list)\n",
        "\n",
        "# Convert all strings to floats\n",
        "float_list = [float(x) for x in str_list]\n",
        "print(\"List converted to floats:\", float_list)\n",
        "\n",
        "# Convert integers to strings\n",
        "numbers = [1, 2, 3, 4]\n",
        "str_from_int = [str(num) for num in numbers]\n",
        "print(\"Integer list converted to strings:\", str_from_int)\n"
      ],
      "metadata": {
        "colab": {
          "base_uri": "https://localhost:8080/"
        },
        "id": "0wqMyXGDpL6_",
        "outputId": "f8db7c0c-7d92-48b0-b874-9250dc65cf28"
      },
      "execution_count": 18,
      "outputs": [
        {
          "output_type": "stream",
          "name": "stdout",
          "text": [
            "Original list (strings): ['10', '20', '30', '40.5', '50']\n",
            "List converted to integers: [10, 20, 30, 50]\n",
            "List converted to floats: [10.0, 20.0, 30.0, 40.5, 50.0]\n",
            "Integer list converted to strings: ['1', '2', '3', '4']\n"
          ]
        }
      ]
    },
    {
      "cell_type": "markdown",
      "source": [
        " 11.Write a program that checks if a number is positive, negative, or zero"
      ],
      "metadata": {
        "id": "VILFmpcZpe_4"
      }
    },
    {
      "cell_type": "code",
      "source": [
        "# Get user input\n",
        "num = float(input(\"Enter a number: \"))\n",
        "\n",
        "# Prepare output\n",
        "print(\"\\nResult:\")\n",
        "print(\"Positive:\", num > 0)\n",
        "print(\"Negative:\", num < 0)\n",
        "print(\"Zero:\", num == 0)\n"
      ],
      "metadata": {
        "colab": {
          "base_uri": "https://localhost:8080/"
        },
        "id": "NbrUk-sdpokF",
        "outputId": "35177f56-fc41-45ec-e647-b468d973616b"
      },
      "execution_count": 21,
      "outputs": [
        {
          "output_type": "stream",
          "name": "stdout",
          "text": [
            "Enter a number: 0\n",
            "\n",
            "Result:\n",
            "Positive: False\n",
            "Negative: False\n",
            "Zero: True\n"
          ]
        }
      ]
    },
    {
      "cell_type": "markdown",
      "source": [
        "12.Write a for loop to print numbers from 1 to 10"
      ],
      "metadata": {
        "id": "Drb1EkKDqDl1"
      }
    },
    {
      "cell_type": "code",
      "source": [
        "for i in range(1, 11):\n",
        "    print(i)"
      ],
      "metadata": {
        "colab": {
          "base_uri": "https://localhost:8080/"
        },
        "id": "rUylwbi4qOhm",
        "outputId": "6feeb91c-c8d3-426f-89d1-2092cc1a1e66"
      },
      "execution_count": 22,
      "outputs": [
        {
          "output_type": "stream",
          "name": "stdout",
          "text": [
            "1\n",
            "2\n",
            "3\n",
            "4\n",
            "5\n",
            "6\n",
            "7\n",
            "8\n",
            "9\n",
            "10\n"
          ]
        }
      ]
    },
    {
      "cell_type": "markdown",
      "source": [
        " 13.Write a Python program to find the sum of all even numbers between 1 and 50"
      ],
      "metadata": {
        "id": "BRRP572zqddj"
      }
    },
    {
      "cell_type": "code",
      "source": [
        "# Initialize sum\n",
        "even_sum = 0\n",
        "\n",
        "# Loop through numbers from 1 to 50\n",
        "for num in range(1, 51):\n",
        "    if num % 2 == 0:\n",
        "        even_sum += num\n",
        "\n",
        "# Display the result\n",
        "print(\"Sum of all even numbers between 1 and 50 is:\", even_sum)\n"
      ],
      "metadata": {
        "colab": {
          "base_uri": "https://localhost:8080/"
        },
        "id": "diQGkeKUqk09",
        "outputId": "caa26ab8-95bc-40a8-c6e3-e910cd4fe6fb"
      },
      "execution_count": 23,
      "outputs": [
        {
          "output_type": "stream",
          "name": "stdout",
          "text": [
            "Sum of all even numbers between 1 and 50 is: 650\n"
          ]
        }
      ]
    },
    {
      "cell_type": "markdown",
      "source": [
        "14.Write a program to reverse a string using a while loop"
      ],
      "metadata": {
        "id": "fEG10jWEq4wx"
      }
    },
    {
      "cell_type": "code",
      "source": [
        "# Get input from user\n",
        "text = input(\"Enter a string: \")\n",
        "\n",
        "# Initialize variables\n",
        "reversed_text = \"\"\n",
        "index = len(text) - 1\n",
        "\n",
        "# Use while loop to reverse the string\n",
        "while index >= 0:\n",
        "    reversed_text += text[index]\n",
        "    index -= 1\n",
        "\n",
        "# Display the reversed string\n",
        "print(\"Reversed string:\", reversed_text)\n"
      ],
      "metadata": {
        "colab": {
          "base_uri": "https://localhost:8080/"
        },
        "id": "Ay-gAKH1q_CW",
        "outputId": "cbbc8017-f244-42e5-e0e8-255f8e02ea83"
      },
      "execution_count": 24,
      "outputs": [
        {
          "output_type": "stream",
          "name": "stdout",
          "text": [
            "Enter a string: hello\n",
            "Reversed string: olleh\n"
          ]
        }
      ]
    },
    {
      "cell_type": "markdown",
      "source": [
        " 15.Write a Python program to calculate the factorial of a number provided by the user using a while loop."
      ],
      "metadata": {
        "id": "94MO4JGyrHcF"
      }
    },
    {
      "cell_type": "code",
      "source": [
        "# Get input from user\n",
        "num = int(input(\"Enter a non-negative integer: \"))\n",
        "\n",
        "# Check for valid input\n",
        "if num < 0:\n",
        "    print(\"Factorial is not defined for negative numbers.\")\n",
        "else:\n",
        "    factorial = 1\n",
        "    n = num\n",
        "\n",
        "    while n > 1:\n",
        "        factorial *= n\n",
        "        n -= 1\n",
        "\n",
        "    print(f\"Factorial of {num} is: {factorial}\")\n"
      ],
      "metadata": {
        "colab": {
          "base_uri": "https://localhost:8080/"
        },
        "id": "kRxGwmddrP9H",
        "outputId": "08c1d85a-de37-4c76-bb90-3ffa4f78fe83"
      },
      "execution_count": 25,
      "outputs": [
        {
          "output_type": "stream",
          "name": "stdout",
          "text": [
            "Enter a non-negative integer: 6\n",
            "Factorial of 6 is: 720\n"
          ]
        }
      ]
    }
  ]
}